{
  "nbformat": 4,
  "nbformat_minor": 0,
  "metadata": {
    "colab": {
      "provenance": []
    },
    "kernelspec": {
      "name": "python3",
      "display_name": "Python 3"
    },
    "language_info": {
      "name": "python"
    }
  },
  "cells": [
    {
      "cell_type": "code",
      "execution_count": 5,
      "metadata": {
        "colab": {
          "base_uri": "https://localhost:8080/"
        },
        "id": "RTXk8ACCq9m1",
        "outputId": "95af8c72-b179-4792-d777-d0233119c1a8"
      },
      "outputs": [
        {
          "output_type": "stream",
          "name": "stdout",
          "text": [
            "10\n",
            "The Generated Password is : @O7qkKvDo4\n"
          ]
        }
      ],
      "source": [
        "#password generator project\n",
        "import random\n",
        "\n",
        "lower_case=\"abcdefghijklmnopqrstuvwxyz\"\n",
        "upper_case=\"ABCDEFGHIJKLMNOPQRSTUVWXYZ\"\n",
        "numbers=\"0123456789\"\n",
        "symbols=\"@#$%^&*!?\"\n",
        "\n",
        "combination=lower_case+upper_case+numbers+symbols\n",
        "length_of_password=int(input())\n",
        "password=\"\".join(random.sample(combination,length_of_password))\n",
        "print(\"The Generated Password is :\",password)"
      ]
    }
  ]
}